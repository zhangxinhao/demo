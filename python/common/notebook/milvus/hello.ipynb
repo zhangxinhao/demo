{
 "cells": [
  {
   "cell_type": "code",
   "execution_count": 1,
   "id": "7100a383-0d3e-43ea-aa50-57a5ae57c40e",
   "metadata": {},
   "outputs": [],
   "source": [
    "from pymilvus import (\n",
    "    connections,\n",
    "    utility,\n",
    "    FieldSchema,\n",
    "    CollectionSchema,\n",
    "    DataType,\n",
    "    Collection,\n",
    ")"
   ]
  },
  {
   "cell_type": "code",
   "execution_count": 2,
   "id": "d56c7126-6510-4e4a-be71-07bcae37d762",
   "metadata": {},
   "outputs": [],
   "source": [
    "connections.connect(\"default\", host=\"localhost\", port=\"19530\")"
   ]
  },
  {
   "cell_type": "code",
   "execution_count": 3,
   "id": "3aa73a81-860e-41b4-a73d-754539b51a6d",
   "metadata": {},
   "outputs": [],
   "source": [
    "fields = [\n",
    "    FieldSchema(name=\"pk\", dtype=DataType.INT64, is_primary=True, auto_id=False),\n",
    "    FieldSchema(name=\"random\", dtype=DataType.DOUBLE),\n",
    "    FieldSchema(name=\"embeddings\", dtype=DataType.FLOAT_VECTOR, dim=8)\n",
    "]\n",
    "schema = CollectionSchema(fields, \"hello_milvus is the simplest demo to introduce the APIs\")\n",
    "hello_milvus = Collection(\"hello_milvus\", schema)"
   ]
  },
  {
   "cell_type": "code",
   "execution_count": 4,
   "id": "e656a2ec-4011-4458-8bac-425ed2a1e59a",
   "metadata": {},
   "outputs": [],
   "source": [
    "import random\n",
    "entities = [\n",
    "    [i for i in range(3000)],  # field pk\n",
    "    [float(random.randrange(-20, -10)) for _ in range(3000)],  # field random\n",
    "    [[random.random() for _ in range(8)] for _ in range(3000)],  # field embeddings\n",
    "]\n",
    "insert_result = hello_milvus.insert(entities)\n",
    "hello_milvus.flush()  "
   ]
  },
  {
   "cell_type": "code",
   "execution_count": 5,
   "id": "36a26ddf-c2ef-45a9-9a12-1472c5597e8a",
   "metadata": {},
   "outputs": [
    {
     "data": {
      "text/plain": [
       "Status(code=0, message=)"
      ]
     },
     "execution_count": 5,
     "metadata": {},
     "output_type": "execute_result"
    }
   ],
   "source": [
    "index = {\n",
    "    \"index_type\": \"IVF_FLAT\",\n",
    "    \"metric_type\": \"L2\",\n",
    "    \"params\": {\"nlist\": 128},\n",
    "}\n",
    "hello_milvus.create_index(\"embeddings\", index)"
   ]
  },
  {
   "cell_type": "code",
   "execution_count": 6,
   "id": "de6ef8b6-ef74-46fc-9320-900e56c3cd04",
   "metadata": {},
   "outputs": [],
   "source": [
    "hello_milvus.load()\n",
    "vectors_to_search = entities[-1][-2:]\n",
    "search_params = {\n",
    "    \"metric_type\": \"L2\",\n",
    "    \"params\": {\"nprobe\": 10},\n",
    "}\n",
    "result = hello_milvus.search(vectors_to_search, \"embeddings\", search_params, limit=3, output_fields=[\"random\"])"
   ]
  },
  {
   "cell_type": "code",
   "execution_count": 7,
   "id": "f620e6e6-952b-4fec-8108-3ac5928b9886",
   "metadata": {},
   "outputs": [],
   "source": [
    "result = hello_milvus.query(expr=\"random > -14\", output_fields=[\"random\", \"embeddings\"])\n"
   ]
  },
  {
   "cell_type": "code",
   "execution_count": 8,
   "id": "0ecfa0b7-3561-47f0-bde7-6521b81fd3bd",
   "metadata": {},
   "outputs": [],
   "source": [
    "result = hello_milvus.search(vectors_to_search, \"embeddings\", search_params, limit=3, expr=\"random > -12\", output_fields=[\"random\"])"
   ]
  },
  {
   "cell_type": "code",
   "execution_count": null,
   "id": "a3c9dda2-0eae-4dae-9524-3da60a43096c",
   "metadata": {},
   "outputs": [],
   "source": []
  }
 ],
 "metadata": {
  "kernelspec": {
   "display_name": "Python 3 (ipykernel)",
   "language": "python",
   "name": "python3"
  },
  "language_info": {
   "codemirror_mode": {
    "name": "ipython",
    "version": 3
   },
   "file_extension": ".py",
   "mimetype": "text/x-python",
   "name": "python",
   "nbconvert_exporter": "python",
   "pygments_lexer": "ipython3",
   "version": "3.10.12"
  }
 },
 "nbformat": 4,
 "nbformat_minor": 5
}
