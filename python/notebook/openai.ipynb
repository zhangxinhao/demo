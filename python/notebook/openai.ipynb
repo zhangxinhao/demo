{
 "cells": [
  {
   "cell_type": "code",
   "execution_count": 1,
   "id": "b890d166-85ce-403c-8e7b-e5edb60442b0",
   "metadata": {},
   "outputs": [],
   "source": [
    "#!pip install python-dotenv\n",
    "#!pip install openai"
   ]
  },
  {
   "cell_type": "code",
   "execution_count": 4,
   "id": "fc48983b-f132-42af-a7fc-cc07f1acd945",
   "metadata": {},
   "outputs": [],
   "source": [
    "import os\n",
    "import openai\n",
    "from pathlib import Path\n",
    "from dotenv import load_dotenv, find_dotenv\n",
    "\n",
    "env_path = Path.home().joinpath('.config/py.env')\n",
    "_ = load_dotenv(find_dotenv(env_path))\n",
    "\n",
    "openai.api_key = os.environ['OPENAI_API_KEY']\n",
    "\n",
    "os.environ[\"http_proxy\"] = \"http://127.0.0.1:7890\"\n",
    "os.environ[\"https_proxy\"] = \"http://127.0.0.1:7890\""
   ]
  },
  {
   "cell_type": "code",
   "execution_count": 5,
   "id": "6e666516-0a7d-485b-8fb8-69a99bef72d5",
   "metadata": {},
   "outputs": [],
   "source": [
    "def get_completion(prompt, model=\"gpt-3.5-turbo\"):\n",
    "    messages = [{\"role\": \"user\", \"content\": prompt}]\n",
    "    response = openai.ChatCompletion.create(\n",
    "        model=model,\n",
    "        messages=messages,\n",
    "        temperature=0, \n",
    "    )\n",
    "    return response.choices[0].message[\"content\"]"
   ]
  },
  {
   "cell_type": "code",
   "execution_count": 6,
   "id": "75b7039d-8b1d-4daf-9050-766e30aab02a",
   "metadata": {},
   "outputs": [
    {
     "data": {
      "text/plain": [
       "'1+1 equals 2.'"
      ]
     },
     "execution_count": 6,
     "metadata": {},
     "output_type": "execute_result"
    }
   ],
   "source": [
    "get_completion(\"What is 1+1?\")"
   ]
  },
  {
   "cell_type": "code",
   "execution_count": 7,
   "id": "8c4e6798-7c01-4831-8cfa-8413198575fa",
   "metadata": {},
   "outputs": [],
   "source": [
    "customer_email = \"\"\"\n",
    "Arrr, I be fuming that me blender lid \\\n",
    "flew off and splattered me kitchen walls \\\n",
    "with smoothie! And to make matters worse,\\\n",
    "the warranty don't cover the cost of \\\n",
    "cleaning up me kitchen. I need yer help \\\n",
    "right now, matey!\n",
    "\"\"\""
   ]
  },
  {
   "cell_type": "code",
   "execution_count": 6,
   "id": "9e43283e-c5fd-4123-a245-55763f451894",
   "metadata": {},
   "outputs": [],
   "source": [
    "style = \"\"\"\n",
    "数字经济时代，数据作为新型的生产要素，已经成为基础性资源和战略性资源，我们正在迎来YB数据时代，数据应用蓬勃发展，需要有强大、安全、可靠的数据设施保驾护航。秉承“以数据为中心，构建多样化数据应用可靠存储底座”的理念，华为OceanStor存储相信，在不确定性、复杂性、多元性激增的时代，需要以应需而变的海纳能力，才能融合和识别难以被洞察的数据需求，释放数据智慧，基于融合广泛、灵活应变、绿色环保、面向未来的能力，助力客户从容应对数字时代的多重挑战，实现利于当下、着眼未来的永续发展。\n",
    "\"\"\""
   ]
  },
  {
   "cell_type": "code",
   "execution_count": 7,
   "id": "1f69653c-d1ac-414b-9d4f-f49c3f468819",
   "metadata": {},
   "outputs": [
    {
     "name": "stdout",
     "output_type": "stream",
     "text": [
      "\n",
      "您是一个强大的AI语言模型，能够理解和生成人类语言。您的任务是读取以下的段落，然后生成一些关于这段内容的问题和答案。\n",
      "\n",
      "下面是样例：\n",
      "文本：\n",
      "\"亚马逊雨林是世界上最大的热带雨林，覆盖了南美多个国家的领土。这片雨林是地球上生物多样性最丰富的地方之一，为无数种不同的生物提供了家园。然而，由于人类的开发和全球变暖的影响，亚马逊雨林正在以前所未有的速度消失。这不仅威胁到无数的物种，也对全球气候产生了巨大的影响。\"\n",
      "\n",
      "问题1：\n",
      "问：亚马逊雨林覆盖了哪些国家的领土？\n",
      "答：亚马逊雨林覆盖了南美多个国家的领土。\n",
      "\n",
      "问题2：\n",
      "问：亚马逊雨林为何被认为是生物多样性最丰富的地方之一？\n",
      "答：因为亚马逊雨林为无数种不同的生物提供了家园。\n",
      "\n",
      "问题3：\n",
      "问：什么因素正在威胁亚马逊雨林？\n",
      "答：由于人类的开发和全球变暖的影响，亚马逊雨林正在以前所未有的速度消失。\n",
      "\n",
      "问题4：\n",
      "问：亚马逊雨林的消失对全球气候有何影响？\n",
      "答：亚马逊雨林的消失不仅威胁到无数的物种，也对全球气候产生了巨大的影响。\n",
      "\n",
      "下面是正式的文本：\n",
      "\"\n",
      "数字经济时代，数据作为新型的生产要素，已经成为基础性资源和战略性资源，我们正在迎来YB数据时代，数据应用蓬勃发展，需要有强大、安全、可靠的数据设施保驾护航。秉承“以数据为中心，构建多样化数据应用可靠存储底座”的理念，华为OceanStor存储相信，在不确定性、复杂性、多元性激增的时代，需要以应需而变的海纳能力，才能融合和识别难以被洞察的数据需求，释放数据智慧，基于融合广泛、灵活应变、绿色环保、面向未来的能力，助力客户从容应对数字时代的多重挑战，实现利于当下、着眼未来的永续发展。\n",
      "\"\n",
      "\n"
     ]
    }
   ],
   "source": [
    "prompt = f\"\"\"\n",
    "您是一个强大的AI语言模型，能够理解和生成人类语言。您的任务是读取以下的段落，然后生成一些关于这段内容的问题和答案。\n",
    "\n",
    "下面是样例：\n",
    "文本：\n",
    "\"亚马逊雨林是世界上最大的热带雨林，覆盖了南美多个国家的领土。这片雨林是地球上生物多样性最丰富的地方之一，为无数种不同的生物提供了家园。然而，由于人类的开发和全球变暖的影响，亚马逊雨林正在以前所未有的速度消失。这不仅威胁到无数的物种，也对全球气候产生了巨大的影响。\"\n",
    "\n",
    "问题1：\n",
    "问：亚马逊雨林覆盖了哪些国家的领土？\n",
    "答：亚马逊雨林覆盖了南美多个国家的领土。\n",
    "\n",
    "问题2：\n",
    "问：亚马逊雨林为何被认为是生物多样性最丰富的地方之一？\n",
    "答：因为亚马逊雨林为无数种不同的生物提供了家园。\n",
    "\n",
    "问题3：\n",
    "问：什么因素正在威胁亚马逊雨林？\n",
    "答：由于人类的开发和全球变暖的影响，亚马逊雨林正在以前所未有的速度消失。\n",
    "\n",
    "问题4：\n",
    "问：亚马逊雨林的消失对全球气候有何影响？\n",
    "答：亚马逊雨林的消失不仅威胁到无数的物种，也对全球气候产生了巨大的影响。\n",
    "\n",
    "下面是正式的文本：\n",
    "\"{style}\"\n",
    "\"\"\"\n",
    "\n",
    "print(prompt)"
   ]
  },
  {
   "cell_type": "code",
   "execution_count": 8,
   "id": "b7ab5662-34a6-4f6c-b9d3-58fe57c75c38",
   "metadata": {},
   "outputs": [],
   "source": [
    "response = get_completion(prompt)"
   ]
  },
  {
   "cell_type": "code",
   "execution_count": 9,
   "id": "b4d144e0-026e-406c-85e1-05f2d4354494",
   "metadata": {},
   "outputs": [
    {
     "data": {
      "text/plain": [
       "'问题1：\\n问：华为OceanStor存储相信什么样的能力可以助力客户应对数字时代的挑战？\\n答：华为OceanStor存储相信需要以应需而变的海纳能力，才能融合和识别难以被洞察的数据需求，释放数据智慧。\\n\\n问题2：\\n问：华为OceanStor存储的理念是什么？\\n答：华为OceanStor存储秉承“以数据为中心，构建多样化数据应用可靠存储底座”的理念。\\n\\n问题3：\\n问：华为OceanStor存储的能力有哪些特点？\\n答：华为OceanStor存储具有融合广泛、灵活应变、绿色环保、面向未来的能力。\\n\\n问题4：\\n问：华为OceanStor存储的目标是什么？\\n答：华为OceanStor存储的目标是助力客户从容应对数字时代的多重挑战，实现利于当下、着眼未来的永续发展。'"
      ]
     },
     "execution_count": 9,
     "metadata": {},
     "output_type": "execute_result"
    }
   ],
   "source": [
    "response"
   ]
  },
  {
   "cell_type": "code",
   "execution_count": null,
   "id": "6a522c68-acf0-4b7f-87aa-d4fe429d8901",
   "metadata": {},
   "outputs": [],
   "source": []
  }
 ],
 "metadata": {
  "kernelspec": {
   "display_name": "Python 3 (ipykernel)",
   "language": "python",
   "name": "python3"
  },
  "language_info": {
   "codemirror_mode": {
    "name": "ipython",
    "version": 3
   },
   "file_extension": ".py",
   "mimetype": "text/x-python",
   "name": "python",
   "nbconvert_exporter": "python",
   "pygments_lexer": "ipython3",
   "version": "3.10.12"
  }
 },
 "nbformat": 4,
 "nbformat_minor": 5
}
